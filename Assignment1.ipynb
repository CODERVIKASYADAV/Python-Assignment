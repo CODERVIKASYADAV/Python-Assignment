{
 "cells": [
  {
   "cell_type": "markdown",
   "id": "88458b35",
   "metadata": {},
   "source": [
    "### Ques 1. Write code that uses iteration to print out the length of each element of the list stored in list.\n",
    "\n",
    "#### list = [\"hello\", \"\", \"goodbye\", \"wonderful\", \"I love Python\"]"
   ]
  },
  {
   "cell_type": "code",
   "execution_count": 1,
   "id": "070adf8a",
   "metadata": {},
   "outputs": [
    {
     "name": "stdout",
     "output_type": "stream",
     "text": [
      "5\n",
      "0\n",
      "7\n",
      "9\n",
      "13\n"
     ]
    }
   ],
   "source": [
    "list = [\"hello\", \"\", \"goodbye\", \"wonderful\", \"I love Python\"]\n",
    "for i in range (len(list)):\n",
    "    print(len(list[i]))"
   ]
  },
  {
   "cell_type": "markdown",
   "id": "6c0646be",
   "metadata": {},
   "source": [
    "### Ques 2. Write a Python program to count and display the vowels of a given text."
   ]
  },
  {
   "cell_type": "code",
   "execution_count": 2,
   "id": "101ae03b",
   "metadata": {},
   "outputs": [
    {
     "name": "stdout",
     "output_type": "stream",
     "text": [
      "Enter a string: My name is Vikas Yadav\n",
      "\n",
      "The vowels are: \n",
      "a\n",
      "e\n",
      "i\n",
      "i\n",
      "a\n",
      "a\n",
      "a\n",
      "And there are 7 vowels.\n"
     ]
    }
   ],
   "source": [
    "n = input(\"Enter a string: \")\n",
    "\n",
    "c = 0\n",
    "\n",
    "print()\n",
    "\n",
    "print(\"The vowels are: \")\n",
    "\n",
    "for i in n:\n",
    "\n",
    " if i in \"AEIOUaeiou\":\n",
    "\n",
    "   print(i)\n",
    "\n",
    "   c = c + 1\n",
    "\n",
    "print(\"And there are\", c, \"vowels.\")\n",
    "\n"
   ]
  },
  {
   "cell_type": "markdown",
   "id": "07375809",
   "metadata": {},
   "source": [
    "### Ques 3. Write code to create a list of numbers from 0 to 88 and assign that list to the variable nums. Do not hard code the list."
   ]
  },
  {
   "cell_type": "code",
   "execution_count": 3,
   "id": "a4b6891d",
   "metadata": {},
   "outputs": [
    {
     "name": "stdout",
     "output_type": "stream",
     "text": [
      "0\n",
      "1\n",
      "2\n",
      "3\n",
      "4\n",
      "5\n",
      "6\n",
      "7\n",
      "8\n",
      "9\n",
      "10\n",
      "11\n",
      "12\n",
      "13\n",
      "14\n",
      "15\n",
      "16\n",
      "17\n",
      "18\n",
      "19\n",
      "20\n",
      "21\n",
      "22\n",
      "23\n",
      "24\n",
      "25\n",
      "26\n",
      "27\n",
      "28\n",
      "29\n",
      "30\n",
      "31\n",
      "32\n",
      "33\n",
      "34\n",
      "35\n",
      "36\n",
      "37\n",
      "38\n",
      "39\n",
      "40\n",
      "41\n",
      "42\n",
      "43\n",
      "44\n",
      "45\n",
      "46\n",
      "47\n",
      "48\n",
      "49\n",
      "50\n",
      "51\n",
      "52\n",
      "53\n",
      "54\n",
      "55\n",
      "56\n",
      "57\n",
      "58\n",
      "59\n",
      "60\n",
      "61\n",
      "62\n",
      "63\n",
      "64\n",
      "65\n",
      "66\n",
      "67\n",
      "68\n",
      "69\n",
      "70\n",
      "71\n",
      "72\n",
      "73\n",
      "74\n",
      "75\n",
      "76\n",
      "77\n",
      "78\n",
      "79\n",
      "80\n",
      "81\n",
      "82\n",
      "83\n",
      "84\n",
      "85\n",
      "86\n",
      "87\n",
      "88\n"
     ]
    }
   ],
   "source": [
    "nums = range(0,89)\n",
    "\n",
    "for n in nums:\n",
    "  print(n)"
   ]
  },
  {
   "cell_type": "markdown",
   "id": "1510b725",
   "metadata": {},
   "source": [
    "### Ques 4. Addition is a string with a list of numbers separated by the + sign. Write code that uses the accumulation pattern to take the sum of all of the numbers and assigns it to sum_val (an integer). (You should use the .split(\"+\") function to split by \"+\" and int() to cast to an integer).\n",
    "\n",
    "### Addition = \"2+5+10+20\""
   ]
  },
  {
   "cell_type": "code",
   "execution_count": 4,
   "id": "9a5912a8",
   "metadata": {},
   "outputs": [
    {
     "name": "stdout",
     "output_type": "stream",
     "text": [
      "37\n",
      "37\n",
      "37\n",
      "37\n",
      "37\n",
      "37\n",
      "37\n",
      "37\n",
      "37\n"
     ]
    }
   ],
   "source": [
    "addition_str = \"2+5+10+20\"\n",
    "sum_val = 0\n",
    "\n",
    "for i in addition_str:\n",
    "    sum_val = sum(map(int,addition_str.split(\"+\")))\n",
    "    print(sum_val)"
   ]
  },
  {
   "cell_type": "markdown",
   "id": "49600150",
   "metadata": {},
   "source": [
    "### Ques 5.Write a Python program to find the volume of a sphere with diameter 12 cm.\n",
    "### Formula: V=4/3 * π * r 3"
   ]
  },
  {
   "cell_type": "code",
   "execution_count": 5,
   "id": "a8fac82b",
   "metadata": {},
   "outputs": [
    {
     "name": "stdout",
     "output_type": "stream",
     "text": [
      "volume of the sphere will be:  904.78\n"
     ]
    }
   ],
   "source": [
    "import math\n",
    "\n",
    "r= 6\n",
    "\n",
    "volume=(4/3)*math.pi*pow(r,3)\n",
    "\n",
    "print(\"volume of the sphere will be:  %.2f\" %volume)"
   ]
  },
  {
   "cell_type": "code",
   "execution_count": null,
   "id": "d4d0b82e",
   "metadata": {},
   "outputs": [],
   "source": []
  }
 ],
 "metadata": {
  "kernelspec": {
   "display_name": "Python 3",
   "language": "python",
   "name": "python3"
  },
  "language_info": {
   "codemirror_mode": {
    "name": "ipython",
    "version": 3
   },
   "file_extension": ".py",
   "mimetype": "text/x-python",
   "name": "python",
   "nbconvert_exporter": "python",
   "pygments_lexer": "ipython3",
   "version": "3.8.8"
  }
 },
 "nbformat": 4,
 "nbformat_minor": 5
}
