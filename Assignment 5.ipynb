{
 "cells": [
  {
   "cell_type": "markdown",
   "id": "4016d07f",
   "metadata": {},
   "source": [
    "Qno. 1 :- Write a program which will find all such numbers which are divisible by 7 but are not a multiple of 5, between 2000 and 3200 (both included).The numbers obtained should be printed in a comma-separated sequence on a single line.\n",
    "\n",
    "Hint By Using generators and list comprehension"
   ]
  },
  {
   "cell_type": "code",
   "execution_count": 1,
   "id": "f29822b1",
   "metadata": {},
   "outputs": [
    {
     "name": "stdout",
     "output_type": "stream",
     "text": [
      "First number 20\n",
      "Last number 200\n",
      "21\n",
      "28\n",
      "42\n",
      "49\n",
      "56\n",
      "63\n",
      "77\n",
      "84\n",
      "91\n",
      "98\n",
      "112\n",
      "119\n",
      "126\n",
      "133\n",
      "147\n",
      "154\n",
      "161\n",
      "168\n",
      "182\n",
      "189\n",
      "196\n"
     ]
    }
   ],
   "source": [
    "num1 = int(input(\"First number \"))\n",
    "  \n",
    "num2 = int(input(\"Last number \"))\n",
    "  \n",
    "s = num1\n",
    "  \n",
    "while s <= num2:\n",
    "    \n",
    "    if s % 7 == 0 and s % 5 != 0:\n",
    "        print(s)\n",
    "        \n",
    "    s += 1"
   ]
  },
  {
   "cell_type": "markdown",
   "id": "854a7430",
   "metadata": {},
   "source": [
    "Qno. 2:-  With a given integral number n, write a program to generate a dictionary that contains (i, i x i) such that is an integral number between 1 and n (both included). and then the program should print the dictionary.Suppose the following input is supplied to the program: 12\n",
    "\n",
    "Hint by using dictionary comprehension\n",
    "\n",
    "then the output should be {1: 1, 2: 4, 3: 9, 4: 16, 5: 25, 6: 36, 7: 49, 8: 64, 9: 81, 10: 100, 11: 121, 12: 144}"
   ]
  },
  {
   "cell_type": "code",
   "execution_count": 2,
   "id": "18f50afa",
   "metadata": {},
   "outputs": [
    {
     "name": "stdout",
     "output_type": "stream",
     "text": [
      "Enter the value of n: 50\n",
      "{1: 1, 2: 4, 3: 9, 4: 16, 5: 25, 6: 36, 7: 49, 8: 64, 9: 81, 10: 100, 11: 121, 12: 144, 13: 169, 14: 196, 15: 225, 16: 256, 17: 289, 18: 324, 19: 361, 20: 400, 21: 441, 22: 484, 23: 529, 24: 576, 25: 625, 26: 676, 27: 729, 28: 784, 29: 841, 30: 900, 31: 961, 32: 1024, 33: 1089, 34: 1156, 35: 1225, 36: 1296, 37: 1369, 38: 1444, 39: 1521, 40: 1600, 41: 1681, 42: 1764, 43: 1849, 44: 1936, 45: 2025, 46: 2116, 47: 2209, 48: 2304, 49: 2401, 50: 2500}\n"
     ]
    }
   ],
   "source": [
    "n = int(input(\"Enter the value of n: \"))\n",
    "\n",
    "\n",
    "squares = {i : i*i for i in range(1, n+1)}\n",
    "\n",
    "\n",
    "print(squares)"
   ]
  },
  {
   "cell_type": "markdown",
   "id": "13f449c5",
   "metadata": {},
   "source": [
    "Qno. 3:- Define a class which has at least two methods:\n",
    "\n",
    "getString: to get a string from console input\n",
    "\n",
    "printString: to print the string in upper case.\n",
    "\n",
    "Also please include simple test function to test the class methods.\n",
    "\n",
    "Hints:Use init method to construct some parameters"
   ]
  },
  {
   "cell_type": "code",
   "execution_count": 3,
   "id": "67e92e09",
   "metadata": {},
   "outputs": [
    {
     "name": "stdout",
     "output_type": "stream",
     "text": [
      "python\n",
      "PYTHON\n"
     ]
    }
   ],
   "source": [
    "class String:\n",
    "    def __init__(self):\n",
    "        self.s = \"\"\n",
    "\n",
    "    def getString(self):\n",
    "        self.s = input()\n",
    "\n",
    "    def printString(self):\n",
    "        print(self.s.upper())\n",
    "\n",
    "Obj = String()\n",
    "Obj.getString()\n",
    "Obj.printString()"
   ]
  },
  {
   "cell_type": "markdown",
   "id": "e0b6e60d",
   "metadata": {},
   "source": [
    "Qno. 4:- Define a class, which have a class parameter and have a same instance parameter.\n",
    "\n",
    "Hint : Define an instance parameter, need add it in init method.You can init an object with construct parameter or set the value later"
   ]
  },
  {
   "cell_type": "code",
   "execution_count": 4,
   "id": "d9f0c3b1",
   "metadata": {},
   "outputs": [
    {
     "name": "stdout",
     "output_type": "stream",
     "text": [
      "1\n",
      "2\n",
      "2\n"
     ]
    }
   ],
   "source": [
    "class sampleclass:\n",
    "    count = 0     # class attribute\n",
    "  \n",
    "    def increase(self):\n",
    "        sampleclass.count += 1\n",
    "  \n",
    "# Calling increase() on an object\n",
    "s1 = sampleclass()\n",
    "s1.increase()        \n",
    "print(s1.count)\n",
    "  \n",
    "# Calling increase on one more\n",
    "# object\n",
    "s2 = sampleclass()\n",
    "s2.increase()\n",
    "print(s2.count)\n",
    "  \n",
    "print(sampleclass.count)"
   ]
  },
  {
   "cell_type": "markdown",
   "id": "35c23025",
   "metadata": {},
   "source": [
    "Qno. 5:- Write a Python class to convert an integer to a roman numeral. "
   ]
  },
  {
   "cell_type": "code",
   "execution_count": 5,
   "id": "b93fe4b8",
   "metadata": {},
   "outputs": [
    {
     "name": "stdout",
     "output_type": "stream",
     "text": [
      "Enter a number: 8877\n",
      "MMMMMMMMDCCCLXXVII"
     ]
    }
   ],
   "source": [
    "roman = { 1: 'I', 4: 'IV', 5: 'V', 9: 'IX', 10: 'X', 40: 'XL',\n",
    "              50: 'L', 90: 'XC', 100: 'C', 400: 'XD', 500: 'D', 900: 'CM', 1000: 'M'}\n",
    "s = int(input(\"Enter a number: \"))\n",
    "\n",
    "order = [1000, 900, 500, 400, 100, 90, 50, 40, 10, 9, 5, 4, 1]\n",
    "\n",
    "for x in order:\n",
    "    if s != 0:\n",
    "        quotient= s//x\n",
    "\n",
    "        if quotient != 0:\n",
    "            for y in range(quotient):\n",
    "                print(roman[x], end=\"\")\n",
    "        s = s%x"
   ]
  }
 ],
 "metadata": {
  "kernelspec": {
   "display_name": "Python 3",
   "language": "python",
   "name": "python3"
  },
  "language_info": {
   "codemirror_mode": {
    "name": "ipython",
    "version": 3
   },
   "file_extension": ".py",
   "mimetype": "text/x-python",
   "name": "python",
   "nbconvert_exporter": "python",
   "pygments_lexer": "ipython3",
   "version": "3.8.8"
  }
 },
 "nbformat": 4,
 "nbformat_minor": 5
}
